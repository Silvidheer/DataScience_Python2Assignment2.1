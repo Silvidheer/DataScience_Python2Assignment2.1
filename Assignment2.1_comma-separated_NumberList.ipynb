{
 "cells": [
  {
   "cell_type": "code",
   "execution_count": 22,
   "metadata": {},
   "outputs": [
    {
     "name": "stdout",
     "output_type": "stream",
     "text": [
      "Enter the sequence of comma-separated numbers: 3,4,5,66,73,54\n",
      "['3', '4', '5', '66', '73', '54']\n"
     ]
    }
   ],
   "source": [
    "#Accept the sequence of comma-separated numbers from the console\n",
    "numbers = input(\"Enter the sequence of comma-separated numbers: \")\n",
    "numberList = numbers.split(',')\n",
    "print (numberList)"
   ]
  },
  {
   "cell_type": "code",
   "execution_count": null,
   "metadata": {
    "collapsed": true
   },
   "outputs": [],
   "source": []
  }
 ],
 "metadata": {
  "kernelspec": {
   "display_name": "Python 3",
   "language": "python",
   "name": "python3"
  },
  "language_info": {
   "codemirror_mode": {
    "name": "ipython",
    "version": 3
   },
   "file_extension": ".py",
   "mimetype": "text/x-python",
   "name": "python",
   "nbconvert_exporter": "python",
   "pygments_lexer": "ipython3",
   "version": "3.6.3"
  }
 },
 "nbformat": 4,
 "nbformat_minor": 2
}
